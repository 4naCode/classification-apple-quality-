{
 "cells": [
  {
   "cell_type": "code",
   "execution_count": 1,
   "id": "3af6740d",
   "metadata": {},
   "outputs": [],
   "source": [
    "import warnings\n",
    "\n",
    "# Nonaktifkan pesan peringatan\n",
    "warnings.filterwarnings(\"ignore\")"
   ]
  },
  {
   "cell_type": "code",
   "execution_count": 2,
   "id": "7e89429d",
   "metadata": {},
   "outputs": [],
   "source": [
    "import pandas as pd\n",
    "import numpy as np\n",
    "import matplotlib.pyplot as plt\n",
    "import seaborn as sns\n"
   ]
  },
  {
   "cell_type": "code",
   "execution_count": 3,
   "id": "30f84d71",
   "metadata": {},
   "outputs": [
    {
     "data": {
      "text/html": [
       "<div>\n",
       "<style scoped>\n",
       "    .dataframe tbody tr th:only-of-type {\n",
       "        vertical-align: middle;\n",
       "    }\n",
       "\n",
       "    .dataframe tbody tr th {\n",
       "        vertical-align: top;\n",
       "    }\n",
       "\n",
       "    .dataframe thead th {\n",
       "        text-align: right;\n",
       "    }\n",
       "</style>\n",
       "<table border=\"1\" class=\"dataframe\">\n",
       "  <thead>\n",
       "    <tr style=\"text-align: right;\">\n",
       "      <th></th>\n",
       "      <th>A_id</th>\n",
       "      <th>Size</th>\n",
       "      <th>Weight</th>\n",
       "      <th>Sweetness</th>\n",
       "      <th>Crunchiness</th>\n",
       "      <th>Juiciness</th>\n",
       "      <th>Ripeness</th>\n",
       "      <th>Acidity</th>\n",
       "      <th>Quality</th>\n",
       "    </tr>\n",
       "  </thead>\n",
       "  <tbody>\n",
       "    <tr>\n",
       "      <th>0</th>\n",
       "      <td>0.0</td>\n",
       "      <td>-3.970049</td>\n",
       "      <td>-2.512336</td>\n",
       "      <td>5.346330</td>\n",
       "      <td>-1.012009</td>\n",
       "      <td>1.844900</td>\n",
       "      <td>0.329840</td>\n",
       "      <td>-0.491590483</td>\n",
       "      <td>good</td>\n",
       "    </tr>\n",
       "    <tr>\n",
       "      <th>1</th>\n",
       "      <td>1.0</td>\n",
       "      <td>-1.195217</td>\n",
       "      <td>-2.839257</td>\n",
       "      <td>3.664059</td>\n",
       "      <td>1.588232</td>\n",
       "      <td>0.853286</td>\n",
       "      <td>0.867530</td>\n",
       "      <td>-0.722809367</td>\n",
       "      <td>good</td>\n",
       "    </tr>\n",
       "    <tr>\n",
       "      <th>2</th>\n",
       "      <td>2.0</td>\n",
       "      <td>-0.292024</td>\n",
       "      <td>-1.351282</td>\n",
       "      <td>-1.738429</td>\n",
       "      <td>-0.342616</td>\n",
       "      <td>2.838636</td>\n",
       "      <td>-0.038033</td>\n",
       "      <td>2.621636473</td>\n",
       "      <td>bad</td>\n",
       "    </tr>\n",
       "    <tr>\n",
       "      <th>3</th>\n",
       "      <td>3.0</td>\n",
       "      <td>-0.657196</td>\n",
       "      <td>-2.271627</td>\n",
       "      <td>1.324874</td>\n",
       "      <td>-0.097875</td>\n",
       "      <td>3.637970</td>\n",
       "      <td>-3.413761</td>\n",
       "      <td>0.790723217</td>\n",
       "      <td>good</td>\n",
       "    </tr>\n",
       "    <tr>\n",
       "      <th>4</th>\n",
       "      <td>4.0</td>\n",
       "      <td>1.364217</td>\n",
       "      <td>-1.296612</td>\n",
       "      <td>-0.384658</td>\n",
       "      <td>-0.553006</td>\n",
       "      <td>3.030874</td>\n",
       "      <td>-1.303849</td>\n",
       "      <td>0.501984036</td>\n",
       "      <td>good</td>\n",
       "    </tr>\n",
       "  </tbody>\n",
       "</table>\n",
       "</div>"
      ],
      "text/plain": [
       "   A_id      Size    Weight  Sweetness  Crunchiness  Juiciness  Ripeness  \\\n",
       "0   0.0 -3.970049 -2.512336   5.346330    -1.012009   1.844900  0.329840   \n",
       "1   1.0 -1.195217 -2.839257   3.664059     1.588232   0.853286  0.867530   \n",
       "2   2.0 -0.292024 -1.351282  -1.738429    -0.342616   2.838636 -0.038033   \n",
       "3   3.0 -0.657196 -2.271627   1.324874    -0.097875   3.637970 -3.413761   \n",
       "4   4.0  1.364217 -1.296612  -0.384658    -0.553006   3.030874 -1.303849   \n",
       "\n",
       "        Acidity Quality  \n",
       "0  -0.491590483    good  \n",
       "1  -0.722809367    good  \n",
       "2   2.621636473     bad  \n",
       "3   0.790723217    good  \n",
       "4   0.501984036    good  "
      ]
     },
     "execution_count": 3,
     "metadata": {},
     "output_type": "execute_result"
    }
   ],
   "source": [
    "df = pd.read_csv('apple_quality.csv')\n",
    "df.head()"
   ]
  },
  {
   "cell_type": "code",
   "execution_count": 86,
   "id": "693514a6",
   "metadata": {},
   "outputs": [
    {
     "data": {
      "text/plain": [
       "Size          -7.151703\n",
       "Weight        -7.149848\n",
       "Sweetness     -6.894485\n",
       "Crunchiness   -6.055058\n",
       "Juiciness     -5.961897\n",
       "Ripeness      -5.864599\n",
       "Acidity       -7.010538\n",
       "Quality        0.000000\n",
       "dtype: float64"
      ]
     },
     "execution_count": 86,
     "metadata": {},
     "output_type": "execute_result"
    }
   ],
   "source": [
    "df.min()"
   ]
  },
  {
   "cell_type": "code",
   "execution_count": 4,
   "id": "f5efba23",
   "metadata": {},
   "outputs": [
    {
     "data": {
      "text/plain": [
       "(4001, 9)"
      ]
     },
     "execution_count": 4,
     "metadata": {},
     "output_type": "execute_result"
    }
   ],
   "source": [
    "df.shape"
   ]
  },
  {
   "cell_type": "code",
   "execution_count": 5,
   "id": "475e20ec",
   "metadata": {},
   "outputs": [
    {
     "data": {
      "text/plain": [
       "0"
      ]
     },
     "execution_count": 5,
     "metadata": {},
     "output_type": "execute_result"
    }
   ],
   "source": [
    "df.duplicated().sum()"
   ]
  },
  {
   "cell_type": "code",
   "execution_count": 6,
   "id": "ac9065dc",
   "metadata": {},
   "outputs": [
    {
     "data": {
      "text/plain": [
       "A_id           1\n",
       "Size           1\n",
       "Weight         1\n",
       "Sweetness      1\n",
       "Crunchiness    1\n",
       "Juiciness      1\n",
       "Ripeness       1\n",
       "Acidity        0\n",
       "Quality        1\n",
       "dtype: int64"
      ]
     },
     "execution_count": 6,
     "metadata": {},
     "output_type": "execute_result"
    }
   ],
   "source": [
    "df.isnull().sum()"
   ]
  },
  {
   "cell_type": "code",
   "execution_count": 7,
   "id": "85a1fef8",
   "metadata": {},
   "outputs": [
    {
     "data": {
      "text/html": [
       "<div>\n",
       "<style scoped>\n",
       "    .dataframe tbody tr th:only-of-type {\n",
       "        vertical-align: middle;\n",
       "    }\n",
       "\n",
       "    .dataframe tbody tr th {\n",
       "        vertical-align: top;\n",
       "    }\n",
       "\n",
       "    .dataframe thead th {\n",
       "        text-align: right;\n",
       "    }\n",
       "</style>\n",
       "<table border=\"1\" class=\"dataframe\">\n",
       "  <thead>\n",
       "    <tr style=\"text-align: right;\">\n",
       "      <th></th>\n",
       "      <th>A_id</th>\n",
       "      <th>Size</th>\n",
       "      <th>Weight</th>\n",
       "      <th>Sweetness</th>\n",
       "      <th>Crunchiness</th>\n",
       "      <th>Juiciness</th>\n",
       "      <th>Ripeness</th>\n",
       "      <th>Acidity</th>\n",
       "      <th>Quality</th>\n",
       "    </tr>\n",
       "  </thead>\n",
       "  <tbody>\n",
       "    <tr>\n",
       "      <th>4000</th>\n",
       "      <td>NaN</td>\n",
       "      <td>NaN</td>\n",
       "      <td>NaN</td>\n",
       "      <td>NaN</td>\n",
       "      <td>NaN</td>\n",
       "      <td>NaN</td>\n",
       "      <td>NaN</td>\n",
       "      <td>Created_by_Nidula_Elgiriyewithana</td>\n",
       "      <td>NaN</td>\n",
       "    </tr>\n",
       "  </tbody>\n",
       "</table>\n",
       "</div>"
      ],
      "text/plain": [
       "      A_id  Size  Weight  Sweetness  Crunchiness  Juiciness  Ripeness  \\\n",
       "4000   NaN   NaN     NaN        NaN          NaN        NaN       NaN   \n",
       "\n",
       "                                Acidity Quality  \n",
       "4000  Created_by_Nidula_Elgiriyewithana     NaN  "
      ]
     },
     "execution_count": 7,
     "metadata": {},
     "output_type": "execute_result"
    }
   ],
   "source": [
    "df[df.isnull().any(axis=1)]"
   ]
  },
  {
   "cell_type": "code",
   "execution_count": 8,
   "id": "481913bd",
   "metadata": {},
   "outputs": [],
   "source": [
    "#remove data nulll\n",
    "df = df.dropna()"
   ]
  },
  {
   "cell_type": "code",
   "execution_count": 9,
   "id": "35fa4c5c",
   "metadata": {},
   "outputs": [
    {
     "data": {
      "text/plain": [
       "A_id           0\n",
       "Size           0\n",
       "Weight         0\n",
       "Sweetness      0\n",
       "Crunchiness    0\n",
       "Juiciness      0\n",
       "Ripeness       0\n",
       "Acidity        0\n",
       "Quality        0\n",
       "dtype: int64"
      ]
     },
     "execution_count": 9,
     "metadata": {},
     "output_type": "execute_result"
    }
   ],
   "source": [
    "df.isnull().sum()"
   ]
  },
  {
   "cell_type": "code",
   "execution_count": 10,
   "id": "6d66e6b4",
   "metadata": {},
   "outputs": [
    {
     "name": "stdout",
     "output_type": "stream",
     "text": [
      "<class 'pandas.core.frame.DataFrame'>\n",
      "Int64Index: 4000 entries, 0 to 3999\n",
      "Data columns (total 9 columns):\n",
      " #   Column       Non-Null Count  Dtype  \n",
      "---  ------       --------------  -----  \n",
      " 0   A_id         4000 non-null   float64\n",
      " 1   Size         4000 non-null   float64\n",
      " 2   Weight       4000 non-null   float64\n",
      " 3   Sweetness    4000 non-null   float64\n",
      " 4   Crunchiness  4000 non-null   float64\n",
      " 5   Juiciness    4000 non-null   float64\n",
      " 6   Ripeness     4000 non-null   float64\n",
      " 7   Acidity      4000 non-null   object \n",
      " 8   Quality      4000 non-null   object \n",
      "dtypes: float64(7), object(2)\n",
      "memory usage: 312.5+ KB\n"
     ]
    }
   ],
   "source": [
    "df.info()"
   ]
  },
  {
   "cell_type": "code",
   "execution_count": 11,
   "id": "8d99a95c",
   "metadata": {},
   "outputs": [],
   "source": [
    "df = df.drop(columns=['A_id'])"
   ]
  },
  {
   "cell_type": "code",
   "execution_count": 12,
   "id": "c9ddf025",
   "metadata": {},
   "outputs": [
    {
     "data": {
      "text/html": [
       "<div>\n",
       "<style scoped>\n",
       "    .dataframe tbody tr th:only-of-type {\n",
       "        vertical-align: middle;\n",
       "    }\n",
       "\n",
       "    .dataframe tbody tr th {\n",
       "        vertical-align: top;\n",
       "    }\n",
       "\n",
       "    .dataframe thead th {\n",
       "        text-align: right;\n",
       "    }\n",
       "</style>\n",
       "<table border=\"1\" class=\"dataframe\">\n",
       "  <thead>\n",
       "    <tr style=\"text-align: right;\">\n",
       "      <th></th>\n",
       "      <th>Size</th>\n",
       "      <th>Weight</th>\n",
       "      <th>Sweetness</th>\n",
       "      <th>Crunchiness</th>\n",
       "      <th>Juiciness</th>\n",
       "      <th>Ripeness</th>\n",
       "      <th>Acidity</th>\n",
       "      <th>Quality</th>\n",
       "    </tr>\n",
       "  </thead>\n",
       "  <tbody>\n",
       "    <tr>\n",
       "      <th>0</th>\n",
       "      <td>-3.970049</td>\n",
       "      <td>-2.512336</td>\n",
       "      <td>5.346330</td>\n",
       "      <td>-1.012009</td>\n",
       "      <td>1.844900</td>\n",
       "      <td>0.32984</td>\n",
       "      <td>-0.491590483</td>\n",
       "      <td>good</td>\n",
       "    </tr>\n",
       "    <tr>\n",
       "      <th>1</th>\n",
       "      <td>-1.195217</td>\n",
       "      <td>-2.839257</td>\n",
       "      <td>3.664059</td>\n",
       "      <td>1.588232</td>\n",
       "      <td>0.853286</td>\n",
       "      <td>0.86753</td>\n",
       "      <td>-0.722809367</td>\n",
       "      <td>good</td>\n",
       "    </tr>\n",
       "  </tbody>\n",
       "</table>\n",
       "</div>"
      ],
      "text/plain": [
       "       Size    Weight  Sweetness  Crunchiness  Juiciness  Ripeness  \\\n",
       "0 -3.970049 -2.512336   5.346330    -1.012009   1.844900   0.32984   \n",
       "1 -1.195217 -2.839257   3.664059     1.588232   0.853286   0.86753   \n",
       "\n",
       "        Acidity Quality  \n",
       "0  -0.491590483    good  \n",
       "1  -0.722809367    good  "
      ]
     },
     "execution_count": 12,
     "metadata": {},
     "output_type": "execute_result"
    }
   ],
   "source": [
    "df.head(2)"
   ]
  },
  {
   "cell_type": "code",
   "execution_count": 13,
   "id": "c8579fc1",
   "metadata": {},
   "outputs": [
    {
     "data": {
      "text/html": [
       "<div>\n",
       "<style scoped>\n",
       "    .dataframe tbody tr th:only-of-type {\n",
       "        vertical-align: middle;\n",
       "    }\n",
       "\n",
       "    .dataframe tbody tr th {\n",
       "        vertical-align: top;\n",
       "    }\n",
       "\n",
       "    .dataframe thead th {\n",
       "        text-align: right;\n",
       "    }\n",
       "</style>\n",
       "<table border=\"1\" class=\"dataframe\">\n",
       "  <thead>\n",
       "    <tr style=\"text-align: right;\">\n",
       "      <th></th>\n",
       "      <th>Size</th>\n",
       "      <th>Weight</th>\n",
       "      <th>Sweetness</th>\n",
       "      <th>Crunchiness</th>\n",
       "      <th>Juiciness</th>\n",
       "      <th>Ripeness</th>\n",
       "      <th>Acidity</th>\n",
       "      <th>Quality</th>\n",
       "    </tr>\n",
       "  </thead>\n",
       "  <tbody>\n",
       "    <tr>\n",
       "      <th>0</th>\n",
       "      <td>-3.970049</td>\n",
       "      <td>-2.512336</td>\n",
       "      <td>5.346330</td>\n",
       "      <td>-1.012009</td>\n",
       "      <td>1.844900</td>\n",
       "      <td>0.329840</td>\n",
       "      <td>-0.491590483</td>\n",
       "      <td>1</td>\n",
       "    </tr>\n",
       "    <tr>\n",
       "      <th>1</th>\n",
       "      <td>-1.195217</td>\n",
       "      <td>-2.839257</td>\n",
       "      <td>3.664059</td>\n",
       "      <td>1.588232</td>\n",
       "      <td>0.853286</td>\n",
       "      <td>0.867530</td>\n",
       "      <td>-0.722809367</td>\n",
       "      <td>1</td>\n",
       "    </tr>\n",
       "    <tr>\n",
       "      <th>2</th>\n",
       "      <td>-0.292024</td>\n",
       "      <td>-1.351282</td>\n",
       "      <td>-1.738429</td>\n",
       "      <td>-0.342616</td>\n",
       "      <td>2.838636</td>\n",
       "      <td>-0.038033</td>\n",
       "      <td>2.621636473</td>\n",
       "      <td>0</td>\n",
       "    </tr>\n",
       "    <tr>\n",
       "      <th>3</th>\n",
       "      <td>-0.657196</td>\n",
       "      <td>-2.271627</td>\n",
       "      <td>1.324874</td>\n",
       "      <td>-0.097875</td>\n",
       "      <td>3.637970</td>\n",
       "      <td>-3.413761</td>\n",
       "      <td>0.790723217</td>\n",
       "      <td>1</td>\n",
       "    </tr>\n",
       "  </tbody>\n",
       "</table>\n",
       "</div>"
      ],
      "text/plain": [
       "       Size    Weight  Sweetness  Crunchiness  Juiciness  Ripeness  \\\n",
       "0 -3.970049 -2.512336   5.346330    -1.012009   1.844900  0.329840   \n",
       "1 -1.195217 -2.839257   3.664059     1.588232   0.853286  0.867530   \n",
       "2 -0.292024 -1.351282  -1.738429    -0.342616   2.838636 -0.038033   \n",
       "3 -0.657196 -2.271627   1.324874    -0.097875   3.637970 -3.413761   \n",
       "\n",
       "        Acidity  Quality  \n",
       "0  -0.491590483        1  \n",
       "1  -0.722809367        1  \n",
       "2   2.621636473        0  \n",
       "3   0.790723217        1  "
      ]
     },
     "execution_count": 13,
     "metadata": {},
     "output_type": "execute_result"
    }
   ],
   "source": [
    "from sklearn.preprocessing import LabelEncoder\n",
    "# Membuat objek LabelEncoder\n",
    "encoder = LabelEncoder()\n",
    "\n",
    "# Mengkodekan kolom 'Quality'\n",
    "df['Quality'] = encoder.fit_transform(df['Quality'])\n",
    "\n",
    "df.head(4)"
   ]
  },
  {
   "cell_type": "code",
   "execution_count": 14,
   "id": "b90b2e92",
   "metadata": {},
   "outputs": [
    {
     "data": {
      "image/png": "[encoded data removed]",
      "text/plain": [
       "<Figure size 1800x720 with 2 Axes>"
      ]
     },
     "metadata": {
      "needs_background": "light"
     },
     "output_type": "display_data"
    }
   ],
   "source": [
    "plt.figure(figsize=(25,10))\n",
    "heatmap = sns.heatmap(df.corr(), annot=True, cmap='GnBu') #GnBu, PuBu, YlGnBu, RdPu, YlGn\n",
    "heatmap.set_yticklabels(heatmap.get_yticklabels(), rotation=0, fontsize=15)\n",
    "heatmap.set_xticklabels(heatmap.get_xticklabels(), fontsize=15)\n",
    "plt.title('Heatmap Semua Kolom', fontsize=20)\n",
    "plt.show()"
   ]
  },
  {
   "cell_type": "code",
   "execution_count": 15,
   "id": "ae5c069b",
   "metadata": {},
   "outputs": [
    {
     "data": {
      "text/plain": [
       "1    2004\n",
       "0    1996\n",
       "Name: Quality, dtype: int64"
      ]
     },
     "execution_count": 15,
     "metadata": {},
     "output_type": "execute_result"
    }
   ],
   "source": [
    "total = df.Quality.value_counts()\n",
    "total"
   ]
  },
  {
   "cell_type": "code",
   "execution_count": 16,
   "id": "52980d34",
   "metadata": {},
   "outputs": [
    {
     "data": {
      "image/png": "[encoded data removed]",
      "text/plain": [
       "<Figure size 432x288 with 1 Axes>"
      ]
     },
     "metadata": {},
     "output_type": "display_data"
    }
   ],
   "source": [
    "plt.pie(total, labels=['Good/1', 'Bad/0'], colors=['#e0f3db', '#7bccc4'], startangle=50, radius=2,\n",
    "       explode=(0,0.1), autopct='%1.2f%%', pctdistance=0.75)\n",
    "\n",
    "Circle = plt.Circle((0,0), 1, color='white')\n",
    "c = plt.gcf()\n",
    "c.gca().add_artist(Circle)\n",
    "\n",
    "plt.title('GOOD vs BAD', color='#08589e', fontsize=15)\n",
    "plt.show()"
   ]
  },
  {
   "cell_type": "code",
   "execution_count": 17,
   "id": "667741c3",
   "metadata": {},
   "outputs": [
    {
     "data": {
      "image/png": "[encoded data removed]",
      "text/plain": [
       "<Figure size 1080x1080 with 9 Axes>"
      ]
     },
     "metadata": {
      "needs_background": "light"
     },
     "output_type": "display_data"
    }
   ],
   "source": [
    "df.hist(figsize=(15,15), bins=30, color='c')\n",
    "plt.show()"
   ]
  },
  {
   "cell_type": "code",
   "execution_count": 18,
   "id": "52f74dfd",
   "metadata": {},
   "outputs": [
    {
     "data": {
      "text/html": [
       "<div>\n",
       "<style scoped>\n",
       "    .dataframe tbody tr th:only-of-type {\n",
       "        vertical-align: middle;\n",
       "    }\n",
       "\n",
       "    .dataframe tbody tr th {\n",
       "        vertical-align: top;\n",
       "    }\n",
       "\n",
       "    .dataframe thead th {\n",
       "        text-align: right;\n",
       "    }\n",
       "</style>\n",
       "<table border=\"1\" class=\"dataframe\">\n",
       "  <thead>\n",
       "    <tr style=\"text-align: right;\">\n",
       "      <th></th>\n",
       "      <th>Size</th>\n",
       "      <th>Weight</th>\n",
       "      <th>Sweetness</th>\n",
       "      <th>Crunchiness</th>\n",
       "      <th>Juiciness</th>\n",
       "      <th>Ripeness</th>\n",
       "      <th>Acidity</th>\n",
       "      <th>Quality</th>\n",
       "    </tr>\n",
       "  </thead>\n",
       "  <tbody>\n",
       "    <tr>\n",
       "      <th>0</th>\n",
       "      <td>-3.970049</td>\n",
       "      <td>-2.512336</td>\n",
       "      <td>5.346330</td>\n",
       "      <td>-1.012009</td>\n",
       "      <td>1.844900</td>\n",
       "      <td>0.32984</td>\n",
       "      <td>-0.491590483</td>\n",
       "      <td>1</td>\n",
       "    </tr>\n",
       "    <tr>\n",
       "      <th>1</th>\n",
       "      <td>-1.195217</td>\n",
       "      <td>-2.839257</td>\n",
       "      <td>3.664059</td>\n",
       "      <td>1.588232</td>\n",
       "      <td>0.853286</td>\n",
       "      <td>0.86753</td>\n",
       "      <td>-0.722809367</td>\n",
       "      <td>1</td>\n",
       "    </tr>\n",
       "  </tbody>\n",
       "</table>\n",
       "</div>"
      ],
      "text/plain": [
       "       Size    Weight  Sweetness  Crunchiness  Juiciness  Ripeness  \\\n",
       "0 -3.970049 -2.512336   5.346330    -1.012009   1.844900   0.32984   \n",
       "1 -1.195217 -2.839257   3.664059     1.588232   0.853286   0.86753   \n",
       "\n",
       "        Acidity  Quality  \n",
       "0  -0.491590483        1  \n",
       "1  -0.722809367        1  "
      ]
     },
     "execution_count": 18,
     "metadata": {},
     "output_type": "execute_result"
    }
   ],
   "source": [
    "df.head(2)"
   ]
  },
  {
   "cell_type": "code",
   "execution_count": 19,
   "id": "6bd51612",
   "metadata": {},
   "outputs": [
    {
     "data": {
      "image/png": "[encoded data removed]",
      "text/plain": [
       "<Figure size 1440x1152 with 7 Axes>"
      ]
     },
     "metadata": {
      "needs_background": "light"
     },
     "output_type": "display_data"
    }
   ],
   "source": [
    "#melihat outlier\n",
    "# Set up figure\n",
    "fig = plt.figure(figsize = (20,16))\n",
    "\n",
    "# Plotting boxplots\n",
    "nbin_var = df[['Size', 'Weight', 'Sweetness', 'Crunchiness', 'Juiciness', 'Ripeness', 'Acidity']]\n",
    "for i, v in enumerate(nbin_var):\n",
    "    axes = fig.add_subplot(4, 2, i+1)\n",
    "    sns.boxplot(x = v, data = df, ax = axes, color='#8FBC8F')"
   ]
  },
  {
   "cell_type": "code",
   "execution_count": 20,
   "id": "773975e4",
   "metadata": {},
   "outputs": [
    {
     "data": {
      "text/plain": [
       "Size           float64\n",
       "Weight         float64\n",
       "Sweetness      float64\n",
       "Crunchiness    float64\n",
       "Juiciness      float64\n",
       "Ripeness       float64\n",
       "Acidity         object\n",
       "Quality          int32\n",
       "dtype: object"
      ]
     },
     "execution_count": 20,
     "metadata": {},
     "output_type": "execute_result"
    }
   ],
   "source": [
    "df.dtypes"
   ]
  },
  {
   "cell_type": "code",
   "execution_count": 21,
   "id": "d01fd11e",
   "metadata": {},
   "outputs": [],
   "source": [
    "df['Acidity'] = df['Acidity'].astype(float)"
   ]
  },
  {
   "cell_type": "code",
   "execution_count": 22,
   "id": "b9303bfe",
   "metadata": {
    "scrolled": true
   },
   "outputs": [
    {
     "name": "stdout",
     "output_type": "stream",
     "text": [
      "Jumlah outlier untuk setiap kolom:\n",
      "Size           22\n",
      "Weight         54\n",
      "Sweetness      32\n",
      "Crunchiness    47\n",
      "Juiciness      32\n",
      "Ripeness       24\n",
      "Acidity        20\n",
      "Quality         0\n",
      "dtype: int64\n"
     ]
    }
   ],
   "source": [
    "\n",
    "# Hitung Q1, Q3, dan IQR untuk setiap kolom\n",
    "Q1 = df.quantile(0.25)\n",
    "Q3 = df.quantile(0.75)\n",
    "IQR = Q3 - Q1\n",
    "\n",
    "# Hitung Lower Bound dan Upper Bound untuk setiap kolom\n",
    "lower_bound = Q1 - 1.5 * IQR\n",
    "upper_bound = Q3 + 1.5 * IQR\n",
    "\n",
    "# Identifikasi outlier untuk setiap kolom\n",
    "outliers = ((df < lower_bound) | (df > upper_bound)).sum()\n",
    "print(\"Jumlah outlier untuk setiap kolom:\")\n",
    "print(outliers)"
   ]
  },
  {
   "cell_type": "code",
   "execution_count": 23,
   "id": "c41af746",
   "metadata": {},
   "outputs": [
    {
     "name": "stdout",
     "output_type": "stream",
     "text": [
      "Total nilai outlier dari seluruh data: 231\n",
      "Persentase outlier dari seluruh data: 0.72%\n"
     ]
    }
   ],
   "source": [
    "# Hitung Q1, Q3, dan IQR untuk setiap kolom\n",
    "Q1 = df.quantile(0.25)\n",
    "Q3 = df.quantile(0.75)\n",
    "IQR = Q3 - Q1\n",
    "\n",
    "# Hitung Lower Bound dan Upper Bound untuk setiap kolom\n",
    "lower_bound = Q1 - 1.5 * IQR\n",
    "upper_bound = Q3 + 1.5 * IQR\n",
    "\n",
    "# Identifikasi outlier untuk setiap kolom\n",
    "outliers = ((df < lower_bound) | (df > upper_bound)).sum()\n",
    "\n",
    "# Hitung total nilai outlier dari seluruh data\n",
    "total_outliers = outliers.sum()\n",
    "\n",
    "# Hitung total data\n",
    "total_data = df.size\n",
    "\n",
    "# Hitung persentase outlier dari total data\n",
    "percentage_outliers = (total_outliers / total_data) * 100\n",
    "\n",
    "print(\"Total nilai outlier dari seluruh data:\", total_outliers)\n",
    "print(\"Persentase outlier dari seluruh data: {:.2f}%\".format(percentage_outliers))"
   ]
  },
  {
   "cell_type": "code",
   "execution_count": 24,
   "id": "100091bb",
   "metadata": {},
   "outputs": [
    {
     "name": "stdout",
     "output_type": "stream",
     "text": [
      "Persentase data outlier:3.12%\n"
     ]
    }
   ],
   "source": [
    "banyak_data_outlier = 1000  # Ganti dengan jumlah outlier yang Anda miliki\n",
    "total_banyak_data = 32000  #(4000*8)# Ganti dengan total banyak data yang Anda miliki\n",
    "\n",
    "persentase_data_outlier = (banyak_data_outlier / total_banyak_data) * 100\n",
    "\n",
    "print(\"Persentase data outlier:{:.2f}%\".format(persentase_data_outlier))"
   ]
  },
  {
   "cell_type": "code",
   "execution_count": 25,
   "id": "b7812baa",
   "metadata": {},
   "outputs": [],
   "source": [
    "from sklearn.model_selection import train_test_split\n",
    "from sklearn.ensemble import RandomForestClassifier\n",
    "from sklearn.tree import DecisionTreeClassifier\n",
    "from sklearn.neighbors import KNeighborsClassifier\n",
    "from sklearn.metrics import accuracy_score, classification_report, confusion_matrix"
   ]
  },
  {
   "cell_type": "code",
   "execution_count": 26,
   "id": "641c3675",
   "metadata": {},
   "outputs": [],
   "source": [
    "# Pisahkan fitur (X) dan label (y)\n",
    "X = df.drop(['Quality'], axis=1)  # fitur\n",
    "y = df['Quality']  # label\n",
    "\n",
    "# Bagi data menjadi set pelatihan dan set pengujian\n",
    "X_train, X_test, y_train, y_test = train_test_split(X, y, test_size=0.2, random_state=42)\n"
   ]
  },
  {
   "cell_type": "code",
   "execution_count": 37,
   "id": "931a5481",
   "metadata": {},
   "outputs": [
    {
     "name": "stdout",
     "output_type": "stream",
     "text": [
      "\n",
      "Decision Tree Classifier:\n",
      "Accuracy: 0.81\n",
      "Confusion Matrix:\n",
      " [[327  74]\n",
      " [ 78 321]]\n",
      "Classification Report:\n",
      "               precision    recall  f1-score   support\n",
      "\n",
      "           0       0.81      0.82      0.81       401\n",
      "           1       0.81      0.80      0.81       399\n",
      "\n",
      "    accuracy                           0.81       800\n",
      "   macro avg       0.81      0.81      0.81       800\n",
      "weighted avg       0.81      0.81      0.81       800\n",
      "\n"
     ]
    }
   ],
   "source": [
    "# Decision Tree Classifier with scaled features\n",
    "dt_classifier = DecisionTreeClassifier()\n",
    "dt_classifier.fit(X_train, y_train)\n",
    "dt_predictions = dt_classifier.predict(X_test)\n",
    "\n",
    "# Evaluate the models\n",
    "print(\"\\nDecision Tree Classifier:\")\n",
    "print(\"Accuracy:\", accuracy_score(y_test, dt_predictions))\n",
    "print(\"Confusion Matrix:\\n\", confusion_matrix(y_test, dt_predictions))\n",
    "print(\"Classification Report:\\n\", classification_report(y_test, dt_predictions))"
   ]
  },
  {
   "cell_type": "code",
   "execution_count": 65,
   "id": "e3e522d3",
   "metadata": {},
   "outputs": [
    {
     "name": "stdout",
     "output_type": "stream",
     "text": [
      "Random Forest Classifier:\n",
      "Accuracy: 0.91\n",
      "Confusion Matrix:\n",
      " [[362  39]\n",
      " [ 33 366]]\n",
      "Classification Report:\n",
      "               precision    recall  f1-score   support\n",
      "\n",
      "           0       0.92      0.90      0.91       401\n",
      "           1       0.90      0.92      0.91       399\n",
      "\n",
      "    accuracy                           0.91       800\n",
      "   macro avg       0.91      0.91      0.91       800\n",
      "weighted avg       0.91      0.91      0.91       800\n",
      "\n"
     ]
    }
   ],
   "source": [
    "# Decision Tree Classifier with scaled features\n",
    "rdm_frst = RandomForestClassifier(random_state=42, n_estimators=1000)\n",
    "rdm_frst.fit(X_train,y_train)\n",
    "rdm_predictions = rdm_frst.predict(X_test)\n",
    "\n",
    "# Evaluate the models\n",
    "print(\"Random Forest Classifier:\")\n",
    "print(\"Accuracy:\", accuracy_score(y_test, rdm_predictions))\n",
    "print(\"Confusion Matrix:\\n\", confusion_matrix(y_test, rdm_predictions))\n",
    "print(\"Classification Report:\\n\", classification_report(y_test, rdm_predictions))"
   ]
  },
  {
   "cell_type": "code",
   "execution_count": 40,
   "id": "196904a3",
   "metadata": {},
   "outputs": [],
   "source": [
    "from sklearn.ensemble import RandomForestClassifier, AdaBoostClassifier\n"
   ]
  },
  {
   "cell_type": "code",
   "execution_count": 64,
   "id": "6ee5b40e",
   "metadata": {},
   "outputs": [
    {
     "name": "stdout",
     "output_type": "stream",
     "text": [
      "Random Forest Classifier:\n",
      "Accuracy: 0.91\n",
      "Confusion Matrix:\n",
      " [[362  39]\n",
      " [ 33 366]]\n",
      "Classification Report:\n",
      "               precision    recall  f1-score   support\n",
      "\n",
      "           0       0.92      0.90      0.91       401\n",
      "           1       0.90      0.92      0.91       399\n",
      "\n",
      "    accuracy                           0.91       800\n",
      "   macro avg       0.91      0.91      0.91       800\n",
      "weighted avg       0.91      0.91      0.91       800\n",
      "\n"
     ]
    }
   ],
   "source": [
    "rf = RandomForestClassifier()\n",
    "#adb = RandomForestClassifier(base_estimator=AdaBoostClassifier)  # Using a weak learner\n",
    "rfA = AdaBoostClassifier(RandomForestClassifier(n_estimators=1000, random_state=42))\n",
    "rfA.fit(X_train,y_train)\n",
    "rf_predictions = rfA.predict(X_test)\n",
    "\n",
    "# Evaluate the models\n",
    "print(\"Random Forest Classifier:\")\n",
    "print(\"Accuracy:\", accuracy_score(y_test, rf_predictions))\n",
    "print(\"Confusion Matrix:\\n\", confusion_matrix(y_test, rf_predictions))\n",
    "print(\"Classification Report:\\n\", classification_report(y_test, rf_predictions))"
   ]
  },
  {
   "cell_type": "markdown",
   "id": "89c78295",
   "metadata": {},
   "source": [
    "##### Tips 1 menampilkan feature importance"
   ]
  },
  {
   "cell_type": "code",
   "execution_count": 68,
   "id": "c5f6d45a",
   "metadata": {},
   "outputs": [
    {
     "name": "stdout",
     "output_type": "stream",
     "text": [
      "Random Forest Feature Importance:\n",
      "Size: 0.16209493979621933\n",
      "Weight: 0.1192131332574732\n",
      "Sweetness: 0.15202739157104275\n",
      "Crunchiness: 0.11207159002174483\n",
      "Juiciness: 0.155742240714293\n",
      "Ripeness: 0.16794842960739295\n",
      "Acidity: 0.13090227503183402\n"
     ]
    }
   ],
   "source": [
    "# Fitur penting dari Random Forest\n",
    "rf_feature_importance = rdm_frst.feature_importances_\n",
    "\n",
    "# Menampilkan fitur penting\n",
    "print(\"Random Forest Feature Importance:\")\n",
    "for i, feature in enumerate(X.columns):\n",
    "    print(f\"{feature}: {rf_feature_importance[i]}\")"
   ]
  },
  {
   "cell_type": "markdown",
   "id": "de9fffa8",
   "metadata": {},
   "source": [
    "##### Tips 2 menampilkan feature importance (dengan visualisasi keren)"
   ]
  },
  {
   "cell_type": "code",
   "execution_count": 69,
   "id": "4b1f5411",
   "metadata": {},
   "outputs": [
    {
     "data": {
      "image/png": "[encoded data removed]",
      "text/plain": [
       "<Figure size 720x432 with 1 Axes>"
      ]
     },
     "metadata": {},
     "output_type": "display_data"
    }
   ],
   "source": [
    "df_feature_importance1 = pd.DataFrame(rdm_frst.feature_importances_, index=X_train.columns,\n",
    "                                       columns=['feature importance']).sort_values('feature importance',\n",
    "                                                                                ascending=False)\n",
    "# Set style\n",
    "sns.set(style=\"whitegrid\")\n",
    "\n",
    "# Membuat plot bar horizontal dengan seaborn\n",
    "plt.figure(figsize=(10, 6))\n",
    "ax = sns.barplot(x='feature importance', y=df_feature_importance1.index, data=df_feature_importance1, palette='viridis')\n",
    "\n",
    "# Mengatur ukuran angka di sumbu x\n",
    "ax.tick_params(axis='x', labelsize=12)\n",
    "ax.tick_params(axis='y', labelsize=15)\n",
    "#membuat label nilai\n",
    "for container in ax.containers:\n",
    "    ax.bar_label(container, fontsize=15)\n",
    "    \n",
    "plt.xlabel('Feature Importance', fontsize=17)\n",
    "plt.ylabel('Features', fontsize=17)\n",
    "plt.title('Feature Importance Berdasarkan Random Forest', fontsize = 20)\n",
    "\n",
    "# Menyesuaikan posisi sumbu y\n",
    "plt.subplots_adjust(left=-0.9)\n",
    "plt.show()"
   ]
  },
  {
   "cell_type": "code",
   "execution_count": 70,
   "id": "e641b9b5",
   "metadata": {},
   "outputs": [
    {
     "data": {
      "text/html": [
       "<div>\n",
       "<style scoped>\n",
       "    .dataframe tbody tr th:only-of-type {\n",
       "        vertical-align: middle;\n",
       "    }\n",
       "\n",
       "    .dataframe tbody tr th {\n",
       "        vertical-align: top;\n",
       "    }\n",
       "\n",
       "    .dataframe thead th {\n",
       "        text-align: right;\n",
       "    }\n",
       "</style>\n",
       "<table border=\"1\" class=\"dataframe\">\n",
       "  <thead>\n",
       "    <tr style=\"text-align: right;\">\n",
       "      <th></th>\n",
       "      <th>Size</th>\n",
       "      <th>Weight</th>\n",
       "      <th>Sweetness</th>\n",
       "      <th>Crunchiness</th>\n",
       "      <th>Juiciness</th>\n",
       "      <th>Ripeness</th>\n",
       "      <th>Acidity</th>\n",
       "      <th>Quality</th>\n",
       "    </tr>\n",
       "  </thead>\n",
       "  <tbody>\n",
       "    <tr>\n",
       "      <th>0</th>\n",
       "      <td>-3.970049</td>\n",
       "      <td>-2.512336</td>\n",
       "      <td>5.346330</td>\n",
       "      <td>-1.012009</td>\n",
       "      <td>1.844900</td>\n",
       "      <td>0.32984</td>\n",
       "      <td>-0.491590</td>\n",
       "      <td>1</td>\n",
       "    </tr>\n",
       "    <tr>\n",
       "      <th>1</th>\n",
       "      <td>-1.195217</td>\n",
       "      <td>-2.839257</td>\n",
       "      <td>3.664059</td>\n",
       "      <td>1.588232</td>\n",
       "      <td>0.853286</td>\n",
       "      <td>0.86753</td>\n",
       "      <td>-0.722809</td>\n",
       "      <td>1</td>\n",
       "    </tr>\n",
       "  </tbody>\n",
       "</table>\n",
       "</div>"
      ],
      "text/plain": [
       "       Size    Weight  Sweetness  Crunchiness  Juiciness  Ripeness   Acidity  \\\n",
       "0 -3.970049 -2.512336   5.346330    -1.012009   1.844900   0.32984 -0.491590   \n",
       "1 -1.195217 -2.839257   3.664059     1.588232   0.853286   0.86753 -0.722809   \n",
       "\n",
       "   Quality  \n",
       "0        1  \n",
       "1        1  "
      ]
     },
     "execution_count": 70,
     "metadata": {},
     "output_type": "execute_result"
    }
   ],
   "source": [
    "df.head(2)"
   ]
  },
  {
   "cell_type": "markdown",
   "id": "7848880d",
   "metadata": {},
   "source": [
    "### Mengecek kembali hasil dari prediksi di atas apakah benar atau tidak"
   ]
  },
  {
   "cell_type": "code",
   "execution_count": 71,
   "id": "4b1cbdb2",
   "metadata": {},
   "outputs": [
    {
     "name": "stdout",
     "output_type": "stream",
     "text": [
      "Nilai maksimum dari setiao kolom:\n",
      "Juiciness    7.364403\n",
      "Ripeness     7.237837\n",
      "Size         6.406367\n",
      "Sweetness    6.374916\n",
      "dtype: float64\n"
     ]
    }
   ],
   "source": [
    "max_values = df[['Ripeness', 'Size', 'Juiciness', 'Sweetness']].max()\n",
    "\n",
    "#tampilkan hasil\n",
    "print('Nilai maksimum dari setiao kolom:')\n",
    "print(max_values.sort_values(ascending=False))"
   ]
  },
  {
   "cell_type": "code",
   "execution_count": 72,
   "id": "9d8d19a0",
   "metadata": {},
   "outputs": [
    {
     "data": {
      "text/html": [
       "<div>\n",
       "<style scoped>\n",
       "    .dataframe tbody tr th:only-of-type {\n",
       "        vertical-align: middle;\n",
       "    }\n",
       "\n",
       "    .dataframe tbody tr th {\n",
       "        vertical-align: top;\n",
       "    }\n",
       "\n",
       "    .dataframe thead th {\n",
       "        text-align: right;\n",
       "    }\n",
       "</style>\n",
       "<table border=\"1\" class=\"dataframe\">\n",
       "  <thead>\n",
       "    <tr style=\"text-align: right;\">\n",
       "      <th></th>\n",
       "      <th>Ripeness</th>\n",
       "      <th>Size</th>\n",
       "      <th>Juiciness</th>\n",
       "      <th>Sweetness</th>\n",
       "      <th>Quality</th>\n",
       "    </tr>\n",
       "  </thead>\n",
       "  <tbody>\n",
       "    <tr>\n",
       "      <th>1381</th>\n",
       "      <td>3.995602</td>\n",
       "      <td>6.406367</td>\n",
       "      <td>0.999640</td>\n",
       "      <td>-4.164118</td>\n",
       "      <td>1</td>\n",
       "    </tr>\n",
       "    <tr>\n",
       "      <th>2502</th>\n",
       "      <td>7.237837</td>\n",
       "      <td>-0.921677</td>\n",
       "      <td>0.447844</td>\n",
       "      <td>-4.685317</td>\n",
       "      <td>0</td>\n",
       "    </tr>\n",
       "    <tr>\n",
       "      <th>2691</th>\n",
       "      <td>-0.336443</td>\n",
       "      <td>-4.122996</td>\n",
       "      <td>2.835063</td>\n",
       "      <td>6.374916</td>\n",
       "      <td>1</td>\n",
       "    </tr>\n",
       "    <tr>\n",
       "      <th>3874</th>\n",
       "      <td>-1.342563</td>\n",
       "      <td>1.925888</td>\n",
       "      <td>7.364403</td>\n",
       "      <td>-0.127441</td>\n",
       "      <td>1</td>\n",
       "    </tr>\n",
       "  </tbody>\n",
       "</table>\n",
       "</div>"
      ],
      "text/plain": [
       "      Ripeness      Size  Juiciness  Sweetness  Quality\n",
       "1381  3.995602  6.406367   0.999640  -4.164118        1\n",
       "2502  7.237837 -0.921677   0.447844  -4.685317        0\n",
       "2691 -0.336443 -4.122996   2.835063   6.374916        1\n",
       "3874 -1.342563  1.925888   7.364403  -0.127441        1"
      ]
     },
     "execution_count": 72,
     "metadata": {},
     "output_type": "execute_result"
    }
   ],
   "source": [
    "max_result = df[(df['Ripeness'] == 7.237836684) | (df['Size'] == 6.406366899) | (df['Juiciness'] == 7.364402864) | (df['Sweetness'] == 6.374915513)][['Ripeness', 'Size', 'Juiciness', 'Sweetness', 'Quality']]                      \n",
    "max_result"
   ]
  },
  {
   "cell_type": "code",
   "execution_count": 73,
   "id": "17c4dafa",
   "metadata": {},
   "outputs": [
    {
     "data": {
      "image/png": "[encoded data removed]",
      "text/plain": [
       "<Figure size 766.175x720 with 20 Axes>"
      ]
     },
     "metadata": {},
     "output_type": "display_data"
    }
   ],
   "source": [
    "# Membuat scatter plot\n",
    "sns.pairplot(max_result[['Ripeness', 'Size', 'Juiciness', 'Sweetness', 'Quality']], hue='Quality', diag_kind='kde')\n",
    "plt.show()"
   ]
  },
  {
   "cell_type": "code",
   "execution_count": 74,
   "id": "d5ddeb91",
   "metadata": {},
   "outputs": [
    {
     "name": "stdout",
     "output_type": "stream",
     "text": [
      "Nilai maksimum dari setiap kolom:\n",
      "Ripeness    -5.864599\n",
      "Size        -7.151703\n",
      "Juiciness   -5.961897\n",
      "Sweetness   -6.894485\n",
      "dtype: float64\n"
     ]
    }
   ],
   "source": [
    "# Mencari nilai maksimum dari beberapa kolom\n",
    "min_values = df[['Ripeness', 'Size', 'Juiciness', 'Sweetness']].min()\n",
    "\n",
    "# Menampilkan nilai maksimum\n",
    "print(\"Nilai minimum dari setiap kolom:\")\n",
    "print(min_values)"
   ]
  },
  {
   "cell_type": "code",
   "execution_count": 75,
   "id": "0e5476a5",
   "metadata": {},
   "outputs": [
    {
     "data": {
      "text/plain": [
       "-6.894485494"
      ]
     },
     "execution_count": 75,
     "metadata": {},
     "output_type": "execute_result"
    }
   ],
   "source": [
    " #df[df[['Ripeness', 'Size', 'Juiciness', 'Sweetness']] == min_values]\n",
    "#\n",
    "df.Ripeness.min()\n",
    "df.Size.min()\n",
    "df.Juiciness.min()\n",
    "df.Sweetness.min()"
   ]
  },
  {
   "cell_type": "code",
   "execution_count": 76,
   "id": "5fa76eb9",
   "metadata": {},
   "outputs": [
    {
     "data": {
      "text/html": [
       "<div>\n",
       "<style scoped>\n",
       "    .dataframe tbody tr th:only-of-type {\n",
       "        vertical-align: middle;\n",
       "    }\n",
       "\n",
       "    .dataframe tbody tr th {\n",
       "        vertical-align: top;\n",
       "    }\n",
       "\n",
       "    .dataframe thead th {\n",
       "        text-align: right;\n",
       "    }\n",
       "</style>\n",
       "<table border=\"1\" class=\"dataframe\">\n",
       "  <thead>\n",
       "    <tr style=\"text-align: right;\">\n",
       "      <th></th>\n",
       "      <th>Ripeness</th>\n",
       "      <th>Size</th>\n",
       "      <th>Juiciness</th>\n",
       "      <th>Sweetness</th>\n",
       "      <th>Quality</th>\n",
       "    </tr>\n",
       "  </thead>\n",
       "  <tbody>\n",
       "    <tr>\n",
       "      <th>161</th>\n",
       "      <td>-5.864599</td>\n",
       "      <td>3.256911</td>\n",
       "      <td>-4.283278</td>\n",
       "      <td>-0.403344</td>\n",
       "      <td>0</td>\n",
       "    </tr>\n",
       "    <tr>\n",
       "      <th>2232</th>\n",
       "      <td>0.301017</td>\n",
       "      <td>-0.214485</td>\n",
       "      <td>-5.961897</td>\n",
       "      <td>-3.942249</td>\n",
       "      <td>0</td>\n",
       "    </tr>\n",
       "    <tr>\n",
       "      <th>2832</th>\n",
       "      <td>2.291800</td>\n",
       "      <td>-1.520566</td>\n",
       "      <td>0.129411</td>\n",
       "      <td>-6.894485</td>\n",
       "      <td>0</td>\n",
       "    </tr>\n",
       "    <tr>\n",
       "      <th>3559</th>\n",
       "      <td>4.127709</td>\n",
       "      <td>-7.151703</td>\n",
       "      <td>-0.136146</td>\n",
       "      <td>1.673138</td>\n",
       "      <td>0</td>\n",
       "    </tr>\n",
       "  </tbody>\n",
       "</table>\n",
       "</div>"
      ],
      "text/plain": [
       "      Ripeness      Size  Juiciness  Sweetness  Quality\n",
       "161  -5.864599  3.256911  -4.283278  -0.403344        0\n",
       "2232  0.301017 -0.214485  -5.961897  -3.942249        0\n",
       "2832  2.291800 -1.520566   0.129411  -6.894485        0\n",
       "3559  4.127709 -7.151703  -0.136146   1.673138        0"
      ]
     },
     "execution_count": 76,
     "metadata": {},
     "output_type": "execute_result"
    }
   ],
   "source": [
    "df[(df['Ripeness'] == -5.864598918) | (df['Size'] == -7.151703059) | (df['Juiciness'] ==-5.961897048) | (df['Sweetness'] ==-6.894485494)][['Ripeness', 'Size', 'Juiciness', 'Sweetness', 'Quality']]                      "
   ]
  },
  {
   "cell_type": "code",
   "execution_count": 79,
   "id": "488c8ac0",
   "metadata": {},
   "outputs": [],
   "source": [
    "import pickle\n",
    "# Save the model\n",
    "with open('rf_model.pkl', 'wb') as file:\n",
    "    pickle.dump(rdm_frst, file)"
   ]
  },
  {
   "cell_type": "markdown",
   "id": "219539f9",
   "metadata": {},
   "source": [
    "## Conclution\n",
    "diketahui algoritma memiliki nilai tertinggi adalah random forest dan berdasarkan hasil difiture importance dari random fores dapat dilihat kolom yang sangat perpengaruh terhadap quality good atau bad pada sebuah apple adalah (Ripeness, Size, Juiciness, Sweetness)\n",
    "\n",
    "- diketahui juga bahwa apabila Ripness tinggi maka quality dari aple tersebut terprediksi **Bad**\n",
    "- apabila Size, Juiciness, Swetness bernilai tinggi maka aple dikategoruikan aple **good** dan begitupun sebaliknya apabila nilai rendah maka aple akan bernilai **Bad**\n",
    "\n",
    "Dari hasil prediksi yang ditampilkan menggunakan feature importance di atas dapat dibuktikan prediksi benar  \n",
    "\n",
    "## Saran:\n",
    "Jadi apabila ingin memilih aple dengan kualitas **GOOD**\n",
    "pililhlah dengan **Size besar**, rasanya **Juiciness** dan **Sweetness**, namun apabila berdasarkan nilai pilih juga dengan nilai **Ripeness rendah**"
   ]
  },
  {
   "cell_type": "code",
   "execution_count": null,
   "id": "1c61f90b",
   "metadata": {},
   "outputs": [],
   "source": []
  },
  {
   "cell_type": "code",
   "execution_count": null,
   "id": "45eb120e",
   "metadata": {},
   "outputs": [],
   "source": []
  },
  {
   "cell_type": "code",
   "execution_count": null,
   "id": "ddd2be8d",
   "metadata": {},
   "outputs": [],
   "source": []
  }
 ],
 "metadata": {
  "kernelspec": {
   "display_name": "Python 3 (ipykernel)",
   "language": "python",
   "name": "python3"
  },
  "language_info": {
   "codemirror_mode": {
    "name": "ipython",
    "version": 3
   },
   "file_extension": ".py",
   "mimetype": "text/x-python",
   "name": "python",
   "nbconvert_exporter": "python",
   "pygments_lexer": "ipython3",
   "version": "3.9.7"
  }
 },
 "nbformat": 4,
 "nbformat_minor": 5
}
